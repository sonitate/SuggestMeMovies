{
 "cells": [
  {
   "cell_type": "code",
   "execution_count": 6,
   "metadata": {},
   "outputs": [],
   "source": [
    "import pandas as pd\n",
    "import numpy as np\n",
    "from sklearn.feature_extraction.text import CountVectorizer\n",
    "from sklearn.metrics.pairwise import cosine_similarity"
   ]
  },
  {
   "cell_type": "code",
   "execution_count": null,
   "metadata": {},
   "outputs": [],
   "source": []
  },
  {
   "cell_type": "code",
   "execution_count": 7,
   "metadata": {},
   "outputs": [],
   "source": [
    "def get_title_from_index(index):\n",
    "\treturn df[df.index == index][\"title\"].values[0]\n",
    "\n",
    "def get_index_from_title(title):\n",
    "\treturn df[df.title == title][\"index\"].values[0]"
   ]
  },
  {
   "cell_type": "code",
   "execution_count": 8,
   "metadata": {},
   "outputs": [
    {
     "data": {
      "text/html": [
       "<div>\n",
       "<style scoped>\n",
       "    .dataframe tbody tr th:only-of-type {\n",
       "        vertical-align: middle;\n",
       "    }\n",
       "\n",
       "    .dataframe tbody tr th {\n",
       "        vertical-align: top;\n",
       "    }\n",
       "\n",
       "    .dataframe thead th {\n",
       "        text-align: right;\n",
       "    }\n",
       "</style>\n",
       "<table border=\"1\" class=\"dataframe\">\n",
       "  <thead>\n",
       "    <tr style=\"text-align: right;\">\n",
       "      <th></th>\n",
       "      <th>id</th>\n",
       "      <th>title</th>\n",
       "      <th>Date</th>\n",
       "      <th>Language</th>\n",
       "      <th>Genre</th>\n",
       "      <th>averageRating</th>\n",
       "      <th>numVotes</th>\n",
       "      <th>Keywords</th>\n",
       "      <th>index</th>\n",
       "      <th>genres_clean</th>\n",
       "    </tr>\n",
       "  </thead>\n",
       "  <tbody>\n",
       "    <tr>\n",
       "      <th>0</th>\n",
       "      <td>31186339</td>\n",
       "      <td>The Hunger Games</td>\n",
       "      <td>2012-03-12</td>\n",
       "      <td>{\"/m/02h40lc\": \"English Language\"}</td>\n",
       "      <td>{\"/m/03btsm8\": \"Action/Adventure\", \"/m/06n90\":...</td>\n",
       "      <td>7.2</td>\n",
       "      <td>834462</td>\n",
       "      <td>arena sponsors tributes tribute survivor suppl...</td>\n",
       "      <td>0</td>\n",
       "      <td>Action/Adventure Science Fiction Action Drama</td>\n",
       "    </tr>\n",
       "    <tr>\n",
       "      <th>1</th>\n",
       "      <td>2231378</td>\n",
       "      <td>The Lemon Drop Kid</td>\n",
       "      <td>1951-03-08</td>\n",
       "      <td>{\"/m/02h40lc\": \"English Language\"}</td>\n",
       "      <td>{\"/m/06qm3\": \"Screwball comedy\", \"/m/01z4y\": \"...</td>\n",
       "      <td>7.1</td>\n",
       "      <td>1646</td>\n",
       "      <td>home money days women scheme crew charity lice...</td>\n",
       "      <td>1</td>\n",
       "      <td>Screwball comedy Comedy</td>\n",
       "    </tr>\n",
       "    <tr>\n",
       "      <th>2</th>\n",
       "      <td>595909</td>\n",
       "      <td>A Cry in the Dark</td>\n",
       "      <td>1988-11-03</td>\n",
       "      <td>{\"/m/02h40lc\": \"English Language\"}</td>\n",
       "      <td>{\"/m/0lsxr\": \"Crime Fiction\", \"/m/07s9rl0\": \"D...</td>\n",
       "      <td>7.4</td>\n",
       "      <td>9</td>\n",
       "      <td>wife baby tent investigation sacrifice wildern...</td>\n",
       "      <td>2</td>\n",
       "      <td>Crime Fiction Drama Docudrama World cinema Cou...</td>\n",
       "    </tr>\n",
       "    <tr>\n",
       "      <th>3</th>\n",
       "      <td>1952976</td>\n",
       "      <td>Dark Water</td>\n",
       "      <td>2005-06-27</td>\n",
       "      <td>{\"/m/02h40lc\": \"English Language\"}</td>\n",
       "      <td>{\"/m/01jfsb\": \"Thriller\", \"/m/07s9rl0\": \"Drama...</td>\n",
       "      <td>5.6</td>\n",
       "      <td>59137</td>\n",
       "      <td>girl water apartment mother school daughter gi...</td>\n",
       "      <td>3</td>\n",
       "      <td>Thriller Drama Horror</td>\n",
       "    </tr>\n",
       "    <tr>\n",
       "      <th>4</th>\n",
       "      <td>2462689</td>\n",
       "      <td>Meet John Doe</td>\n",
       "      <td>1941-05-03</td>\n",
       "      <td>{\"/m/02h40lc\": \"English Language\"}</td>\n",
       "      <td>{\"/m/06cvj\": \"Romantic comedy\", \"/m/0hj3nby\": ...</td>\n",
       "      <td>7.6</td>\n",
       "      <td>11875</td>\n",
       "      <td>letter speech newspaper editor suicide sensati...</td>\n",
       "      <td>4</td>\n",
       "      <td>Romantic comedy Media Satire Americana Comedy-...</td>\n",
       "    </tr>\n",
       "  </tbody>\n",
       "</table>\n",
       "</div>"
      ],
      "text/plain": [
       "         id               title        Date  \\\n",
       "0  31186339    The Hunger Games  2012-03-12   \n",
       "1   2231378  The Lemon Drop Kid  1951-03-08   \n",
       "2    595909   A Cry in the Dark  1988-11-03   \n",
       "3   1952976          Dark Water  2005-06-27   \n",
       "4   2462689       Meet John Doe  1941-05-03   \n",
       "\n",
       "                             Language  \\\n",
       "0  {\"/m/02h40lc\": \"English Language\"}   \n",
       "1  {\"/m/02h40lc\": \"English Language\"}   \n",
       "2  {\"/m/02h40lc\": \"English Language\"}   \n",
       "3  {\"/m/02h40lc\": \"English Language\"}   \n",
       "4  {\"/m/02h40lc\": \"English Language\"}   \n",
       "\n",
       "                                               Genre  averageRating  numVotes  \\\n",
       "0  {\"/m/03btsm8\": \"Action/Adventure\", \"/m/06n90\":...            7.2    834462   \n",
       "1  {\"/m/06qm3\": \"Screwball comedy\", \"/m/01z4y\": \"...            7.1      1646   \n",
       "2  {\"/m/0lsxr\": \"Crime Fiction\", \"/m/07s9rl0\": \"D...            7.4         9   \n",
       "3  {\"/m/01jfsb\": \"Thriller\", \"/m/07s9rl0\": \"Drama...            5.6     59137   \n",
       "4  {\"/m/06cvj\": \"Romantic comedy\", \"/m/0hj3nby\": ...            7.6     11875   \n",
       "\n",
       "                                            Keywords  index  \\\n",
       "0  arena sponsors tributes tribute survivor suppl...      0   \n",
       "1  home money days women scheme crew charity lice...      1   \n",
       "2  wife baby tent investigation sacrifice wildern...      2   \n",
       "3  girl water apartment mother school daughter gi...      3   \n",
       "4  letter speech newspaper editor suicide sensati...      4   \n",
       "\n",
       "                                        genres_clean  \n",
       "0      Action/Adventure Science Fiction Action Drama  \n",
       "1                            Screwball comedy Comedy  \n",
       "2  Crime Fiction Drama Docudrama World cinema Cou...  \n",
       "3                              Thriller Drama Horror  \n",
       "4  Romantic comedy Media Satire Americana Comedy-...  "
      ]
     },
     "execution_count": 8,
     "metadata": {},
     "output_type": "execute_result"
    }
   ],
   "source": [
    "df = pd.read_csv(\"meta_and_keywords_clean_cut.csv\")\n",
    "df.head(5)"
   ]
  },
  {
   "cell_type": "code",
   "execution_count": null,
   "metadata": {},
   "outputs": [],
   "source": []
  },
  {
   "cell_type": "code",
   "execution_count": 5,
   "metadata": {},
   "outputs": [],
   "source": [
    "##Step 2: Select Features\n",
    "\n",
    "features = ['Keywords','genres_clean']\n",
    "features_nokey = ['genres_clean']"
   ]
  },
  {
   "cell_type": "code",
   "execution_count": 6,
   "metadata": {},
   "outputs": [
    {
     "name": "stdout",
     "output_type": "stream",
     "text": [
      "Combined Features: 0    arena sponsors tributes tribute survivor suppl...\n",
      "1    home money days women scheme crew charity lice...\n",
      "2    wife baby tent investigation sacrifice wildern...\n",
      "3    girl water apartment mother school daughter gi...\n",
      "4    letter speech newspaper editor suicide sensati...\n",
      "Name: combined_features, dtype: object\n"
     ]
    }
   ],
   "source": [
    "for feature in features:\n",
    "\tdf[feature] = df[feature].fillna('')\n",
    "\n",
    "def combine_features(row):\n",
    "\ttry:\n",
    "\t\treturn row['Keywords']+\" \"+row[\"genres_clean\"]\n",
    "\texcept:\n",
    "\t\tprint (\"Error:\", row)\n",
    "\n",
    "df[\"combined_features\"] = df.apply(combine_features,axis=1)\n",
    "\n",
    "print (\"Combined Features:\", df[\"combined_features\"].head())"
   ]
  },
  {
   "cell_type": "code",
   "execution_count": 7,
   "metadata": {},
   "outputs": [
    {
     "name": "stdout",
     "output_type": "stream",
     "text": [
      "Combined Features_nokey: 0        Action/Adventure Science Fiction Action Drama\n",
      "1                              Screwball comedy Comedy\n",
      "2    Crime Fiction Drama Docudrama World cinema Cou...\n",
      "3                                Thriller Drama Horror\n",
      "4    Romantic comedy Media Satire Americana Comedy-...\n",
      "Name: combined_features_nokey, dtype: object\n"
     ]
    }
   ],
   "source": [
    "for feature in features_nokey:\n",
    "\tdf[feature] = df[feature].fillna('')\n",
    "\n",
    "def combine_features_nokey(row):\n",
    "\ttry:\n",
    "\t\treturn row[\"genres_clean\"]\n",
    "\texcept:\n",
    "\t\tprint (\"Error:\", row)\n",
    "\n",
    "df[\"combined_features_nokey\"] = df.apply(combine_features_nokey,axis=1)\n",
    "\n",
    "print (\"Combined Features_nokey:\", df[\"combined_features_nokey\"].head())"
   ]
  },
  {
   "cell_type": "code",
   "execution_count": 8,
   "metadata": {},
   "outputs": [],
   "source": [
    "##Step 4: Create count matrix from this new combined column\n",
    "cv = CountVectorizer()\n",
    "\n",
    "count_matrix = cv.fit_transform(df[\"combined_features\"])\n",
    "count_matrix_nokey = cv.fit_transform(df[\"combined_features_nokey\"])"
   ]
  },
  {
   "cell_type": "code",
   "execution_count": 16,
   "metadata": {},
   "outputs": [],
   "source": [
    "##Step 5: Compute the Cosine Similarity based on the count_matrix\n",
    "cosine_sim = cosine_similarity(count_matrix) \n",
    "cosine_sim_nokey = cosine_similarity(count_matrix_nokey) \n",
    "movie_user_likes = \"The Hunger Games\""
   ]
  },
  {
   "cell_type": "code",
   "execution_count": 17,
   "metadata": {},
   "outputs": [],
   "source": [
    "## Step 6: Get index of this movie from its title\n",
    "movie_index = get_index_from_title(movie_user_likes)\n",
    "# print('index')\n",
    "# print(movie_index)\n",
    "similar_movies =  list(enumerate(cosine_sim[movie_index]))\n"
   ]
  },
  {
   "cell_type": "code",
   "execution_count": 18,
   "metadata": {},
   "outputs": [],
   "source": [
    "similar_movies_nokey =  list(enumerate(cosine_sim_nokey[movie_index]))\n"
   ]
  },
  {
   "cell_type": "code",
   "execution_count": 19,
   "metadata": {},
   "outputs": [],
   "source": [
    "## Step 7: Get a list of similar movies in descending order of similarity score\n",
    "sorted_similar_movies = sorted(similar_movies,key=lambda x:x[1],reverse=True)\n"
   ]
  },
  {
   "cell_type": "code",
   "execution_count": 20,
   "metadata": {},
   "outputs": [],
   "source": [
    "sorted_similar_movies_nokey = sorted(similar_movies_nokey,key=lambda x:x[1],reverse=True)"
   ]
  },
  {
   "cell_type": "code",
   "execution_count": 21,
   "metadata": {},
   "outputs": [
    {
     "name": "stdout",
     "output_type": "stream",
     "text": [
      "YOUR MOVIE: THE HUNGER GAMES\n",
      "The Hunger Games\n",
      "XIII\n",
      "Trancers 6\n",
      "Northville Cemetery Massacre\n",
      "Against the Dark\n",
      "The Island\n",
      "Mar Mitenge\n",
      "Sticky Fingers\n",
      "Rangbaaz\n",
      "Tekken\n",
      "Two Lost Worlds\n",
      "Hercules\n",
      "Circadian Rhythm\n",
      "Spy Kids 4: All the Time in the World\n",
      "Cowboys & Aliens\n",
      "The Hero: Love Story of a Spy\n",
      "The Cutter\n",
      "Sci-fighters\n",
      "Kranti Kshetra\n",
      "Raptor Island\n",
      "Naaraaz\n"
     ]
    }
   ],
   "source": [
    "## Step 8: Print titles of first 20 movies\n",
    "# this is recommendation with the keywords included\n",
    "i=0\n",
    "print(\"YOUR MOVIE: \"+movie_user_likes.upper())\n",
    "for element in sorted_similar_movies:\n",
    "\t\tprint (get_title_from_index(element[0]))\n",
    "\t\ti=i+1\n",
    "\t\tif i>20:\n",
    "\t\t\tbreak"
   ]
  },
  {
   "cell_type": "code",
   "execution_count": 22,
   "metadata": {},
   "outputs": [
    {
     "name": "stdout",
     "output_type": "stream",
     "text": [
      "The Hunger Games\n",
      "The Postman\n",
      "Universal Soldier II: Brothers in Arms\n",
      "Universal Soldier III: Unfinished Business\n",
      "Super 8\n",
      "The Island\n",
      "Ra.One\n",
      "Star Trek: Generations\n",
      "Knights\n",
      "After Earth\n",
      "Women of the Prehistoric Planet\n",
      "Blood Rush\n",
      "Velocity Trap\n",
      "Ender's Game\n",
      "Mysterious Island\n",
      "Replicant\n",
      "Northville Cemetery Massacre\n",
      "Cyborg Soldier\n",
      "Independence Day\n",
      "One Good Cop\n",
      "Eve of Destruction\n"
     ]
    }
   ],
   "source": [
    "i=0\n",
    "# without keywords\n",
    "for element in sorted_similar_movies_nokey:\n",
    "\t\tprint (get_title_from_index(element[0]))\n",
    "\t\ti=i+1\n",
    "\t\tif i>20:\n",
    "\t\t\tbreak"
   ]
  },
  {
   "cell_type": "code",
   "execution_count": null,
   "metadata": {},
   "outputs": [],
   "source": []
  },
  {
   "cell_type": "code",
   "execution_count": null,
   "metadata": {},
   "outputs": [],
   "source": []
  }
 ],
 "metadata": {
  "kernelspec": {
   "display_name": "Python 3",
   "language": "python",
   "name": "python3"
  },
  "language_info": {
   "codemirror_mode": {
    "name": "ipython",
    "version": 3
   },
   "file_extension": ".py",
   "mimetype": "text/x-python",
   "name": "python",
   "nbconvert_exporter": "python",
   "pygments_lexer": "ipython3",
   "version": "3.8.5"
  }
 },
 "nbformat": 4,
 "nbformat_minor": 4
}
